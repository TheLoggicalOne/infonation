{
 "cells": [
  {
   "cell_type": "markdown",
   "id": "9c670d03-02c0-4f1c-9ff2-74a2419dc7ba",
   "metadata": {},
   "source": [
    "# Infonation"
   ]
  },
  {
   "cell_type": "markdown",
   "id": "1de5ca1c-aee0-40ac-a16e-e77c89113ca3",
   "metadata": {},
   "source": [
    "## From Data"
   ]
  }
 ],
 "metadata": {
  "kernelspec": {
   "display_name": "fastbook_fastai_py311_k",
   "language": "python",
   "name": "fastbook_fastai_py311"
  },
  "language_info": {
   "codemirror_mode": {
    "name": "ipython",
    "version": 3
   },
   "file_extension": ".py",
   "mimetype": "text/x-python",
   "name": "python",
   "nbconvert_exporter": "python",
   "pygments_lexer": "ipython3",
   "version": "3.11.10"
  }
 },
 "nbformat": 4,
 "nbformat_minor": 5
}
